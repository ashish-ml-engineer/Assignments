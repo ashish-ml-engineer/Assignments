{
 "cells": [
  {
   "cell_type": "markdown",
   "metadata": {},
   "source": [
    "Write a function so that the columns of the output matrix are powers of the input\n",
    "vector.\n",
    "The order of the powers is determined by the increasing boolean argument. Specifically, when\n",
    "increasing is False, the i-th output column is the input vector raised element-wise to the power\n",
    "of N - i - 1.\n",
    "HINT: Such a matrix with a geometric progression in each row is named for Alexandre-\n",
    "Theophile Vandermonde."
   ]
  },
  {
   "cell_type": "code",
   "execution_count": 37,
   "metadata": {},
   "outputs": [
    {
     "name": "stdout",
     "output_type": "stream",
     "text": [
      "[[ 1  1  1  1]\n",
      " [ 1  2  4  8]\n",
      " [ 1  3  9 27]\n",
      " [ 1  4 16 64]]\n"
     ]
    }
   ],
   "source": [
    "import numpy as np\n",
    "\n",
    "def output_matrix(input_vector,increasing=True):\n",
    "    N=len(input_vector) #calculating length of input_vector\n",
    "    if increasing:\n",
    "        result=[[pow(item,power) for power in range(0,N)] for item in input_vector] #matrix for increasing powers\n",
    "        print(np.asanyarray(result))#using numpy function to output in matrix format\n",
    "    else:\n",
    "        result=[[pow(item,power) for power in range(N-1,-1,-1)] for item in input_vector] #matrix for decreasing powers\n",
    "        print(np.asanyarray(result)) #using numpy function to output in matrix format\n",
    "\n",
    "output_matrix([1,2,3,4])"
   ]
  },
  {
   "cell_type": "code",
   "execution_count": 38,
   "metadata": {},
   "outputs": [
    {
     "name": "stdout",
     "output_type": "stream",
     "text": [
      "[[  1   1   1   1]\n",
      " [  8   4   2   1]\n",
      " [ 27   9   3   1]\n",
      " [125  25   5   1]]\n"
     ]
    }
   ],
   "source": [
    "output_matrix([1,2,3,5],increasing=False)"
   ]
  },
  {
   "cell_type": "markdown",
   "metadata": {},
   "source": [
    "Given a sequence of n values x1, x2, ..., xn and a window size k>0, the k-th moving average of\n",
    "the given sequence is defined as follows:\n",
    "The moving average sequence has n-k+1 elements as shown below.\n",
    "The moving averages with k=4 of a ten-value sequence (n=10) is shown below\n",
    "\n",
    "i 1 2 3 4 5 6 7 8 9 10\n",
    "===== == == == == == == == == == ==\n",
    "\n",
    "Input 10 20 30 40 50 60 70 80 90 100\n",
    "\n",
    "y1 25 = (10+20+30+40)/4\n",
    "\n",
    "y2 35 = (20+30+40+50)/4\n",
    "\n",
    "y3 45 = (30+40+50+60)/4\n",
    "\n",
    "y4 55 = (40+50+60+70)/4\n",
    "\n",
    "y5 65 = (50+60+70+80)/4\n",
    "\n",
    "y6 75 = (60+70+80+90)/4\n",
    "\n",
    "y7 85 = (70+80+90+100)/4\n",
    "\n",
    "Thus, the moving average sequence has n-k+1=10-4+1=7 values.\n",
    "\n",
    "\n",
    "Question: Write a function to find moving average in an array over a window:\n",
    "Test it over [3, 5, 7, 2, 8, 10, 11, 65, 72, 81, 99, 100, 150] and window of 3."
   ]
  },
  {
   "cell_type": "code",
   "execution_count": 83,
   "metadata": {},
   "outputs": [
    {
     "name": "stdout",
     "output_type": "stream",
     "text": [
      "Enter the window_size:3\n",
      "3 5 7 2 8 10 11 65 72 81 99 100 150\n",
      "y1 Moving average is :  5.0\n",
      "y2 Moving average is :  4.67\n",
      "y3 Moving average is :  5.67\n",
      "y4 Moving average is :  6.67\n",
      "y5 Moving average is :  9.67\n",
      "y6 Moving average is :  28.67\n",
      "y7 Moving average is :  49.33\n",
      "y8 Moving average is :  72.67\n",
      "y9 Moving average is :  84.0\n",
      "y10 Moving average is :  93.33\n",
      "y11 Moving average is :  116.33\n"
     ]
    }
   ],
   "source": [
    "def mov_avg(window_size):\n",
    "    input_list = list(map(int,input().split())) #converting the input to list\n",
    "    n   = len(input_list)\n",
    "    k = 0\n",
    "    \n",
    "    for i in range(0,n-window_size+1): \n",
    "        sum = 0\n",
    "        for j in range(i,window_size+i):\n",
    "            sum += input_list[j] #calculating the sum according to the window size given as input\n",
    "        k=k+1\n",
    "        print(\"y\"+str(k),\"Moving average is : \",round(sum/window_size,2))\n",
    "                   \n",
    "mov_avg(int(input(\"Enter the window_size:\")))"
   ]
  },
  {
   "cell_type": "code",
   "execution_count": null,
   "metadata": {},
   "outputs": [],
   "source": []
  }
 ],
 "metadata": {
  "kernelspec": {
   "display_name": "Python 3",
   "language": "python",
   "name": "python3"
  },
  "language_info": {
   "codemirror_mode": {
    "name": "ipython",
    "version": 3
   },
   "file_extension": ".py",
   "mimetype": "text/x-python",
   "name": "python",
   "nbconvert_exporter": "python",
   "pygments_lexer": "ipython3",
   "version": "3.7.1"
  }
 },
 "nbformat": 4,
 "nbformat_minor": 2
}
