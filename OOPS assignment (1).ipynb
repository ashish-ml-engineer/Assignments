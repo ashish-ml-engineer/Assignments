{
 "cells": [
  {
   "cell_type": "code",
   "execution_count": 1,
   "metadata": {},
   "outputs": [
    {
     "name": "stdout",
     "output_type": "stream",
     "text": [
      "Test of Class A\n",
      "Test of Class B\n",
      "Test of Class C\n"
     ]
    }
   ],
   "source": [
    "#Class A\n",
    "class A:\n",
    "    def test():\n",
    "        print(\"Test of Class A\")\n",
    "\n",
    "#Class B        \n",
    "class B:\n",
    "    def test():\n",
    "        print(\"Test of Class B\")\n",
    "        \n",
    "#Class C which inherits both Class A and Class B        \n",
    "class C(A,B):\n",
    "    def test():\n",
    "        print(\"Test of Class C\")\n",
    "    A.test() #Access test function of Class A\n",
    "    B.test() #Access test function of Class B\n",
    "    test() #Access test function of Class C"
   ]
  },
  {
   "cell_type": "code",
   "execution_count": null,
   "metadata": {},
   "outputs": [],
   "source": []
  }
 ],
 "metadata": {
  "kernelspec": {
   "display_name": "Python 3",
   "language": "python",
   "name": "python3"
  },
  "language_info": {
   "codemirror_mode": {
    "name": "ipython",
    "version": 3
   },
   "file_extension": ".py",
   "mimetype": "text/x-python",
   "name": "python",
   "nbconvert_exporter": "python",
   "pygments_lexer": "ipython3",
   "version": "3.7.1"
  }
 },
 "nbformat": 4,
 "nbformat_minor": 2
}
