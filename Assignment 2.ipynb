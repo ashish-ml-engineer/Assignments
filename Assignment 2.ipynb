{
 "cells": [
  {
   "cell_type": "code",
   "execution_count": 52,
   "metadata": {},
   "outputs": [
    {
     "data": {
      "text/plain": [
       "765"
      ]
     },
     "execution_count": 52,
     "metadata": {},
     "output_type": "execute_result"
    }
   ],
   "source": [
    "#Task 1:\n",
    "#1.1\n",
    "#Write a Python Program to implement your own myreduce() function which works exactly like\n",
    "#Python's built-in function reduce()\n",
    "\n",
    "numbers = [112,45,9,765,34,421]\n",
    "maximum = lambda a,b:a if a>b else b #function to find the maximum\n",
    "   \n",
    "def myreduce(maximum, numbers): #implementing own version of reduce() built-in\n",
    "    sequence = iter(numbers) #get the iterable object\n",
    "    first = next(sequence) #assigning the first value in the sequence to 'first' variable\n",
    "\n",
    "    for x in sequence:\n",
    "        maximum_value = maximum(first, x) #function to find the maximum number\n",
    "        first = maximum_value #assign the maximum number to first\n",
    "    return maximum_value\n",
    "\n",
    "myreduce(maximum, numbers) #calling function to find the maximum in a sequence\n"
   ]
  },
  {
   "cell_type": "code",
   "execution_count": 18,
   "metadata": {},
   "outputs": [
    {
     "data": {
      "text/plain": [
       "[22, 56, 60]"
      ]
     },
     "execution_count": 18,
     "metadata": {},
     "output_type": "execute_result"
    }
   ],
   "source": [
    "#1.2\n",
    "#Write a Python program to implement your own myfilter() function which works exactly like\n",
    "#Python's built-in function filter()\n",
    "\n",
    "\n",
    "numbers=[13,22,39,47,56,60] #list of numbers\n",
    "function = lambda x: x%2==0 #lambda function to evaluate even numbers\n",
    "\n",
    "def myfilter(function, numbers):\n",
    "    return[item for item in numbers if function(item)] #works as filter() built-in function when the condition is 'True'\n",
    "\n",
    "myfilter(function, numbers)\n"
   ]
  },
  {
   "cell_type": "code",
   "execution_count": 25,
   "metadata": {},
   "outputs": [
    {
     "data": {
      "text/plain": [
       "['A', 'C', 'A', 'D', 'G', 'I', 'L', 'D']"
      ]
     },
     "execution_count": 25,
     "metadata": {},
     "output_type": "execute_result"
    }
   ],
   "source": [
    "#2.\n",
    "#Implement List comprehensions to produce the following lists.\n",
    "#Write List comprehensions to produce the following Lists\n",
    "#['A', 'C', 'A', 'D', 'G', 'I', ’L’, ‘ D’]\n",
    "#['x', 'xx', 'xxx', 'xxxx', 'y', 'yy', 'yyy', 'yyyy', 'z', 'zz', 'zzz', 'zzzz']\n",
    "#['x', 'y', 'z', 'xx', 'yy', 'zz', 'xxx', 'yyy', 'zzz', 'xxxx', 'yyyy', 'zzzz']\n",
    "#[[2], [3], [4], [3], [4], [5], [4], [5], [6]]\n",
    "#[[2, 3, 4, 5], [3, 4, 5, 6], [4, 5, 6, 7], [5, 6, 7, 8]]\n",
    "#[(1, 1), (2, 1), (3, 1), (1, 2), (2, 2), (3, 2), (1, 3), (2, 3), (3, 3)]\n",
    "\n",
    "\n",
    "str1='ACADGILD'\n",
    "[i for i in str1] # output the list ['A', 'C', 'A', 'D', 'G', 'I', 'L', 'D']\n"
   ]
  },
  {
   "cell_type": "code",
   "execution_count": 29,
   "metadata": {},
   "outputs": [
    {
     "data": {
      "text/plain": [
       "['x', 'xx', 'xxx', 'xxxx', 'y', 'yy', 'yyy', 'yyyy', 'z', 'zz', 'zzz', 'zzzz']"
      ]
     },
     "execution_count": 29,
     "metadata": {},
     "output_type": "execute_result"
    }
   ],
   "source": [
    "str2='xyz'\n",
    "#output the list ['x', 'xx', 'xxx', 'xxxx', 'y', 'yy', 'yyy', 'yyyy', 'z', 'zz', 'zzz', 'zzzz']\n",
    "[pattern*i for pattern in str2 for i in range(1,5)] \n"
   ]
  },
  {
   "cell_type": "code",
   "execution_count": 30,
   "metadata": {},
   "outputs": [
    {
     "data": {
      "text/plain": [
       "['x', 'y', 'z', 'xx', 'yy', 'zz', 'xxx', 'yyy', 'zzz', 'xxxx', 'yyyy', 'zzzz']"
      ]
     },
     "execution_count": 30,
     "metadata": {},
     "output_type": "execute_result"
    }
   ],
   "source": [
    "str3='xyz'\n",
    "#output the list ['x', 'y', 'z', 'xx', 'yy', 'zz', 'xxx', 'yyy', 'zzz', 'xxxx', 'yyyy', 'zzzz']\n",
    "[pattern*i for i in range(1,5) for pattern in str3]"
   ]
  },
  {
   "cell_type": "code",
   "execution_count": 34,
   "metadata": {},
   "outputs": [
    {
     "data": {
      "text/plain": [
       "[[2], [3], [4], [3], [4], [5], [4], [5], [6]]"
      ]
     },
     "execution_count": 34,
     "metadata": {},
     "output_type": "execute_result"
    }
   ],
   "source": [
    "#output the list [[2], [3], [4], [3], [4], [5], [4], [5], [6]]\n",
    "[[i+j] for i in range(1,4) for j in range(1,4)]\n"
   ]
  },
  {
   "cell_type": "code",
   "execution_count": 47,
   "metadata": {},
   "outputs": [
    {
     "data": {
      "text/plain": [
       "[[2, 3, 4, 5], [3, 4, 5, 6], [4, 5, 6, 7], [5, 6, 7, 8]]"
      ]
     },
     "execution_count": 47,
     "metadata": {},
     "output_type": "execute_result"
    }
   ],
   "source": [
    "#output the list [[2, 3, 4, 5], [3, 4, 5, 6], [4, 5, 6, 7], [5, 6, 7, 8]]\n",
    "[[i+j for i in range(0,4)] for j in range(2,6)]"
   ]
  },
  {
   "cell_type": "code",
   "execution_count": 50,
   "metadata": {},
   "outputs": [
    {
     "data": {
      "text/plain": [
       "[(1, 1), (2, 1), (3, 1), (1, 2), (2, 2), (3, 2), (1, 3), (2, 3), (3, 3)]"
      ]
     },
     "execution_count": 50,
     "metadata": {},
     "output_type": "execute_result"
    }
   ],
   "source": [
    "#output the list [(1, 1), (2, 1), (3, 1), (1, 2), (2, 2), (3, 2), (1, 3), (2, 3), (3, 3)]\n",
    "[(j,i) for i in range(1,4) for j in range(1,4)]"
   ]
  },
  {
   "cell_type": "code",
   "execution_count": 68,
   "metadata": {},
   "outputs": [
    {
     "name": "stdout",
     "output_type": "stream",
     "text": [
      "Enter the text: I love to find interesting patterns with data\n",
      "The longest word is: interesting\n"
     ]
    }
   ],
   "source": [
    "#3.\n",
    "#Implement a function longestWord() that takes a list of words and returns the longest one.\n",
    "\n",
    "word_list = input(\"Enter the text: \").split(' ') # getting the list of words from user\n",
    "\n",
    "def longestWord(word_list):\n",
    "    longest_word = word_list[0] #initialize first element to be the longest\n",
    "    \n",
    "    for i in range(1,len(word_list)): #starting 'for' loop from second element to the last in the list\n",
    "        if(len(word_list[i]) > len(longest_word)):\n",
    "            longest_word=word_list[i] #if the word length is greater then assign it to be the 'longest_word'\n",
    "    return longest_word\n",
    "            \n",
    "print(\"The longest word is:\",longestWord(word_list))\n",
    "        "
   ]
  },
  {
   "cell_type": "code",
   "execution_count": 105,
   "metadata": {},
   "outputs": [
    {
     "name": "stdout",
     "output_type": "stream",
     "text": [
      "Enter the sides of the triangle A,B,C separated by comma:6,6,6\n",
      "Area of the triangle is: 15.588457268119896\n"
     ]
    }
   ],
   "source": [
    "#Task 2:\n",
    "#1.1\n",
    "#Write a Python Program(with class concepts) to find the area of the triangle using the below\n",
    "#formula.\n",
    "#area = (s*(s-a)*(s-b)*(s-c)) ** 0.5\n",
    "#Function to take the length of the sides of triangle from user should be defined in the parent\n",
    "#class and function to calculate the area should be defined in subclass.\n",
    "\n",
    "class Sides:\n",
    "    def __init__(self):\n",
    "        sideA,sideB,sideC= eval(input(\"Enter the sides of the triangle A,B,C separated by comma:\"))# taking input values from user\n",
    "        self.sideA=sideA\n",
    "        self.sideB=sideB\n",
    "        self.sideC=sideC                 \n",
    "        \n",
    "class Area(Sides):       \n",
    "    def compute_area(self): #function to calculate the area of triangle\n",
    "        s=(self.sideA+self.sideB+self.sideC)/2\n",
    "        area=(s*(s-self.sideA)*(s-self.sideB)*(s-self.sideC)) ** 0.5 #formula to find area of triangle\n",
    "        return area\n",
    "\n",
    "print(\"Area of the triangle is:\",Area().compute_area())\n",
    "        "
   ]
  },
  {
   "cell_type": "code",
   "execution_count": 1,
   "metadata": {},
   "outputs": [
    {
     "name": "stdout",
     "output_type": "stream",
     "text": [
      "Enter the words:I love to spend time swimming\n",
      "Enter the word length size:4\n",
      "The words that are longer than 4 letters are: ['spend', 'swimming']\n"
     ]
    }
   ],
   "source": [
    "#1.2\n",
    "#Write a function filter_long_words() that takes a list of words and an integer n and returns the list\n",
    "#of words that are longer than n.\n",
    "\n",
    "words=input(\"Enter the words:\").split(' ')\n",
    "number=int(input(\"Enter the word length size:\"))\n",
    "selected_words=[]\n",
    "\n",
    "def filter_long_words(words,n): #function to get the words longer than the given input number\n",
    "    for i in words:\n",
    "        if(len(i) > n):\n",
    "            selected_words.append(i) #add the words longer than number to 'selected_words' list\n",
    "    return selected_words\n",
    "\n",
    "print(\"The words that are longer than\",number,\"letters are:\",filter_long_words(words,number))\n",
    "            "
   ]
  },
  {
   "cell_type": "code",
   "execution_count": 6,
   "metadata": {},
   "outputs": [
    {
     "name": "stdout",
     "output_type": "stream",
     "text": [
      "Enter the words:I love to code\n",
      "Entered list is: ['I', 'love', 'to', 'code']\n",
      "The lengths of the words are [1, 4, 2, 4]\n"
     ]
    }
   ],
   "source": [
    "#2.1\n",
    "#Write a Python program using function concept that maps list of words into a list of integers\n",
    "#representing the lengths of the corresponding words .\n",
    "#Hint: If a list [ ab,cde,erty] is passed on to the python function output should come as [2,3,4]\n",
    "#Here 2,3 and 4 are the lengths of the words in the list.\n",
    "\n",
    "words=input(\"Enter the words:\").split(' ')\n",
    "print(\"Entered list is:\",words)\n",
    "\n",
    "def word_length_list(words):\n",
    "    return[len(item) for item in words]    #adding the word lengths to the list\n",
    "\n",
    "print(\"The lengths of the words are\",word_length_list(words))"
   ]
  },
  {
   "cell_type": "code",
   "execution_count": 24,
   "metadata": {},
   "outputs": [
    {
     "name": "stdout",
     "output_type": "stream",
     "text": [
      "Enter a character (i.e. a string of length 1):R\n"
     ]
    },
    {
     "data": {
      "text/plain": [
       "False"
      ]
     },
     "execution_count": 24,
     "metadata": {},
     "output_type": "execute_result"
    }
   ],
   "source": [
    "#2.2\n",
    "#Write a Python function which takes a character (i.e. a string of length 1) and returns True if it is\n",
    "#a vowel, False otherwise.\n",
    "\n",
    "character=str(input(\"Enter a character (i.e. a string of length 1):\").lower())\n",
    "\n",
    "def check_vowel(character):\n",
    "    vowel=['a','e','i','o','u']\n",
    "    return True if character in vowel else False #return 'True' if the character is present in vowel list\n",
    "        \n",
    "check_vowel(character)"
   ]
  },
  {
   "cell_type": "code",
   "execution_count": null,
   "metadata": {},
   "outputs": [],
   "source": []
  }
 ],
 "metadata": {
  "kernelspec": {
   "display_name": "Python 3",
   "language": "python",
   "name": "python3"
  },
  "language_info": {
   "codemirror_mode": {
    "name": "ipython",
    "version": 3
   },
   "file_extension": ".py",
   "mimetype": "text/x-python",
   "name": "python",
   "nbconvert_exporter": "python",
   "pygments_lexer": "ipython3",
   "version": "3.7.1"
  }
 },
 "nbformat": 4,
 "nbformat_minor": 2
}
